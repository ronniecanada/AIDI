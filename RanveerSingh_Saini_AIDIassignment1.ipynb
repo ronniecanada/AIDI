{
 "cells": [
  {
   "cell_type": "code",
   "execution_count": 9,
   "id": "d8a9eef5-b8d3-4447-8b4c-c00697f3bd7a",
   "metadata": {},
   "outputs": [
    {
     "name": "stdout",
     "output_type": "stream",
     "text": [
      "The history saving thread hit an unexpected error (OperationalError('database or disk is full')).History will not be written to the database.Question 1 (a) Probability Table:\n",
      "P(M ∩ U18): 0.08\n",
      "P(M ∩ U18c): 0.73\n",
      "P(Mc ∩ U18): 0.07\n",
      "P(Mc ∩ U18c): 0.16\n",
      "Question 1 (b): Probability of Male or Under 18: 0.88\n",
      "Question 1 (c): Probability of Neither Male nor Under 18: 0.12\n",
      "Question 1 (d): Probability of Male and At Least 18: 0.73\n",
      "Question 1 (e): M and U18 are not mutually exclusive.\n",
      "\n"
     ]
    }
   ],
   "source": [
    "# Import necessary libraries for statistical calculations\n",
    "from scipy.special import comb\n",
    "from scipy.stats import norm\n",
    "\n",
    "### Question 1: Crime Statistics ###\n",
    "\n",
    "# Define the given probabilities for the first part\n",
    "P_M = 0.81  # Probability of being male\n",
    "P_U18 = 0.15  # Probability of being under the age of 18\n",
    "P_M_and_U18 = 0.08  # Probability of being both male and under 18\n",
    "\n",
    "# Part (a) - Calculate other required probabilities\n",
    "P_Mc = 1 - P_M  # Probability of being female\n",
    "P_U18c = 1 - P_U18  # Probability of being at least 18\n",
    "P_M_and_U18c = P_M - P_M_and_U18  # Male and at least 18\n",
    "P_U18_and_Mc = P_U18 - P_M_and_U18  # Female and under 18\n",
    "\n",
    "# Display calculated results for the table\n",
    "print(\"Question 1 (a) Probability Table:\")\n",
    "print(f\"P(M ∩ U18): {P_M_and_U18:.2f}\")\n",
    "print(f\"P(M ∩ U18c): {P_M_and_U18c:.2f}\")\n",
    "print(f\"P(Mc ∩ U18): {P_U18_and_Mc:.2f}\")\n",
    "print(f\"P(Mc ∩ U18c): {(P_Mc * P_U18c):.2f}\")\n",
    "\n",
    "# Part (b) - Probability of being either male or under 18\n",
    "P_M_or_U18 = P_M + P_U18 - P_M_and_U18  # Formula for union of two events\n",
    "print(f\"Question 1 (b): Probability of Male or Under 18: {P_M_or_U18:.2f}\")\n",
    "\n",
    "# Part (c) - Probability of being neither male nor under 18\n",
    "P_neither_M_nor_U18 = 1 - P_M_or_U18  # Complement of part (b)\n",
    "print(f\"Question 1 (c): Probability of Neither Male nor Under 18: {P_neither_M_nor_U18:.2f}\")\n",
    "\n",
    "# Part (d) - Probability of being male and at least 18\n",
    "print(f\"Question 1 (d): Probability of Male and At Least 18: {P_M_and_U18c:.2f}\")\n",
    "\n",
    "# Part (e) - Checking if M and U18 are mutually exclusive\n",
    "if P_M_and_U18 != 0:\n",
    "    print(\"Question 1 (e): M and U18 are not mutually exclusive.\")\n",
    "else:\n",
    "    print(\"Question 1 (e): M and U18 are mutually exclusive.\")"
   ]
  },
  {
   "cell_type": "code",
   "execution_count": 10,
   "id": "40603896-698f-425f-aa2c-c8d2aff86854",
   "metadata": {},
   "outputs": [
    {
     "name": "stdout",
     "output_type": "stream",
     "text": [
      "Question 2 (a): Probability that exactly 2 voters favor the ban: 0.3456\n",
      "Question 2 (b): Probability that fewer than 4 favor the ban: 0.9130\n",
      "Question 2 (c): Probability that at least 1 favors the ban: 0.9222\n"
     ]
    }
   ],
   "source": [
    "### Question 2: Voter Preferences ###\n",
    "\n",
    "# Part (a) - Probability that exactly 2 voters favor the ban\n",
    "n_voters = 5  # Number of voters sampled\n",
    "p_favor = 0.4  # Probability that a voter favors the ban\n",
    "k = 2  # Number of voters who favor the ban\n",
    "P_2_favor = comb(n_voters, k) * (p_favor**k) * ((1 - p_favor)**(n_voters - k))  # Binomial probability formula\n",
    "print(f\"Question 2 (a): Probability that exactly 2 voters favor the ban: {P_2_favor:.4f}\")\n",
    "\n",
    "# Part (b) - Probability that fewer than 4 voters favor the ban\n",
    "P_less_than_4 = sum(comb(n_voters, k) * (p_favor**k) * ((1 - p_favor)**(n_voters - k)) for k in range(4))\n",
    "print(f\"Question 2 (b): Probability that fewer than 4 favor the ban: {P_less_than_4:.4f}\")\n",
    "\n",
    "# Part (c) - Probability that at least 1 voter favors the ban\n",
    "P_at_least_1 = 1 - (1 - p_favor)**n_voters  # Complement of none favoring the ban\n",
    "print(f\"Question 2 (c): Probability that at least 1 favors the ban: {P_at_least_1:.4f}\")"
   ]
  },
  {
   "cell_type": "code",
   "execution_count": 11,
   "id": "fbe7f088-06d7-4309-bebc-8b27c1111a27",
   "metadata": {},
   "outputs": [
    {
     "name": "stdout",
     "output_type": "stream",
     "text": [
      "Question 3 (a): Probability both people find it difficult: 0.1600\n",
      "Question 3 (b): Probability neither finds it difficult: 0.3600\n",
      "Question 3 (c): Probability at least one finds it difficult: 0.6400\n",
      "Question 3 (d): Minimum sample size: 6\n"
     ]
    }
   ],
   "source": [
    "### Question 3: Financial Obligations ###\n",
    "\n",
    "# Part (a) - Probability both people find it difficult to meet obligations\n",
    "p_difficulty = 0.4  # Probability of financial difficulty\n",
    "P_both_difficult = p_difficulty**2\n",
    "print(f\"Question 3 (a): Probability both people find it difficult: {P_both_difficult:.4f}\")\n",
    "\n",
    "# Part (b) - Probability neither finds it difficult\n",
    "P_neither_difficult = (1 - p_difficulty)**2\n",
    "print(f\"Question 3 (b): Probability neither finds it difficult: {P_neither_difficult:.4f}\")\n",
    "\n",
    "# Part (c) - Probability at least one finds it difficult\n",
    "P_at_least_one_difficult = 1 - P_neither_difficult\n",
    "print(f\"Question 3 (c): Probability at least one finds it difficult: {P_at_least_one_difficult:.4f}\")\n",
    "\n",
    "# Part (d) - Minimum number of people such that the probability at least one has difficulty is 0.95\n",
    "n = 1\n",
    "while (1 - (1 - p_difficulty)**n) < 0.95:\n",
    "    n += 1\n",
    "print(f\"Question 3 (d): Minimum sample size: {n}\")"
   ]
  },
  {
   "cell_type": "code",
   "execution_count": 12,
   "id": "91dce1bc-e462-4872-a028-59e4e5fbf654",
   "metadata": {},
   "outputs": [
    {
     "name": "stdout",
     "output_type": "stream",
     "text": [
      "Question 4: Probability of scoring above 500: 0.6075\n"
     ]
    }
   ],
   "source": [
    "### Question 4: SAT Scores ###\n",
    "\n",
    "# Part (a) - Probability of scoring above 500 on SAT\n",
    "mean_sat = 530  # Mean SAT score\n",
    "std_dev_sat = 110  # Standard deviation of SAT scores\n",
    "z_score = (500 - mean_sat) / std_dev_sat  # Z-score for 500\n",
    "P_above_500 = 1 - norm.cdf(z_score)  # Area under the curve beyond 500\n",
    "print(f\"Question 4: Probability of scoring above 500: {P_above_500:.4f}\")"
   ]
  },
  {
   "cell_type": "code",
   "execution_count": 13,
   "id": "8d8e401b-3852-4053-acb2-68021ca4c43c",
   "metadata": {},
   "outputs": [
    {
     "name": "stdout",
     "output_type": "stream",
     "text": [
      "Question 5: Probability of spending less than $3.00: 0.2089\n"
     ]
    }
   ],
   "source": [
    "### Question 5: Movie Concessions ###\n",
    "\n",
    "# Part (a) - Probability that a customer spends less than $3.00\n",
    "mean_spending = 4.11  # Mean spending on concessions\n",
    "std_dev_spending = 1.37  # Standard deviation of spending\n",
    "z_spending = (3.00 - mean_spending) / std_dev_spending  # Z-score for $3.00\n",
    "P_spending_less_3 = norm.cdf(z_spending)  # CDF for spending less than $3\n",
    "print(f\"Question 5: Probability of spending less than $3.00: {P_spending_less_3:.4f}\")"
   ]
  },
  {
   "cell_type": "code",
   "execution_count": 14,
   "id": "a5eaee95-16cf-413c-971e-2c19064ebe73",
   "metadata": {},
   "outputs": [
    {
     "name": "stdout",
     "output_type": "stream",
     "text": [
      "Posterior Probability that the coin is Type A given heads: 0.32\n",
      "Posterior Probability that the coin is Type B given heads: 0.39\n",
      "Posterior Probability that the coin is Type C given heads: 0.29\n"
     ]
    }
   ],
   "source": [
    "# Import the necessary library\n",
    "import numpy as np\n",
    "\n",
    "# Step 1: Define the prior probabilities P(H)\n",
    "# We are given that there are 2 coins of type A, 2 coins of type B, and 1 coin of type C.\n",
    "# The prior probabilities are based on the number of each coin type in the drawer.\n",
    "P_A = 2 / 5  # Probability of selecting a type A coin\n",
    "P_B = 2 / 5  # Probability of selecting a type B coin\n",
    "P_C = 1 / 5  # Probability of selecting a type C coin\n",
    "\n",
    "# Step 2: Define the likelihoods P(D|H)\n",
    "# These are the probabilities of flipping heads given the coin type.\n",
    "P_heads_given_A = 0.5  # Type A coin is fair, so P(heads|A) = 0.5\n",
    "P_heads_given_B = 0.6  # Type B coin has a probability of 0.6 for heads\n",
    "P_heads_given_C = 0.9  # Type C coin has a probability of 0.9 for heads\n",
    "\n",
    "# Step 3: Calculate the total probability P(D) using the law of total probability\n",
    "P_heads = (P_A * P_heads_given_A) + (P_B * P_heads_given_B) + (P_C * P_heads_given_C)\n",
    "\n",
    "# Step 4: Apply Bayes' Theorem to calculate the posterior probabilities\n",
    "\n",
    "# For type A coin:\n",
    "P_A_given_heads = (P_A * P_heads_given_A) / P_heads\n",
    "\n",
    "# For type B coin:\n",
    "P_B_given_heads = (P_B * P_heads_given_B) / P_heads\n",
    "\n",
    "# For type C coin:\n",
    "P_C_given_heads = (P_C * P_heads_given_C) / P_heads\n",
    "\n",
    "# Step 5: Output the results\n",
    "print(f\"Posterior Probability that the coin is Type A given heads: {P_A_given_heads:.2f}\")\n",
    "print(f\"Posterior Probability that the coin is Type B given heads: {P_B_given_heads:.2f}\")\n",
    "print(f\"Posterior Probability that the coin is Type C given heads: {P_C_given_heads:.2f}\")\n"
   ]
  },
  {
   "cell_type": "code",
   "execution_count": 15,
   "id": "ab1754ed-5ad2-4274-9574-985152a50850",
   "metadata": {},
   "outputs": [
    {
     "name": "stdout",
     "output_type": "stream",
     "text": [
      "P(ham | M5): 0.0\n",
      "P(spam | M5): 0.25\n",
      "The message M5 is classified as spam.\n"
     ]
    }
   ],
   "source": [
    "# Define dataset as a list of dictionaries\n",
    "dataset = [\n",
    "    {'Malicious': 'yes', 'Viagara': 'yes', 'Meet': 'yes', 'class': 'spam'},\n",
    "    {'Malicious': 'no', 'Viagara': 'no', 'Meet': 'yes', 'class': 'ham'},\n",
    "    {'Malicious': 'yes', 'Viagara': 'no', 'Meet': 'yes', 'class': 'spam'},\n",
    "    {'Malicious': 'no', 'Viagara': 'yes', 'Meet': 'no', 'class': 'ham'}\n",
    "]\n",
    "\n",
    "# The new message M5\n",
    "M5 = {'Malicious': 'yes', 'Viagara': 'no', 'Meet': 'yes'}\n",
    "\n",
    "# Calculate prior probabilities\n",
    "P_ham = sum(1 for data in dataset if data['class'] == 'ham') / len(dataset)\n",
    "P_spam = sum(1 for data in dataset if data['class'] == 'spam') / len(dataset)\n",
    "\n",
    "# Calculate conditional probabilities for ham\n",
    "P_malicious_yes_ham = sum(1 for data in dataset if data['Malicious'] == 'yes' and data['class'] == 'ham') / sum(1 for data in dataset if data['class'] == 'ham')\n",
    "P_viagara_no_ham = sum(1 for data in dataset if data['Viagara'] == 'no' and data['class'] == 'ham') / sum(1 for data in dataset if data['class'] == 'ham')\n",
    "P_meet_yes_ham = sum(1 for data in dataset if data['Meet'] == 'yes' and data['class'] == 'ham') / sum(1 for data in dataset if data['class'] == 'ham')\n",
    "\n",
    "# Calculate conditional probabilities for spam\n",
    "P_malicious_yes_spam = sum(1 for data in dataset if data['Malicious'] == 'yes' and data['class'] == 'spam') / sum(1 for data in dataset if data['class'] == 'spam')\n",
    "P_viagara_no_spam = sum(1 for data in dataset if data['Viagara'] == 'no' and data['class'] == 'spam') / sum(1 for data in dataset if data['class'] == 'spam')\n",
    "P_meet_yes_spam = sum(1 for data in dataset if data['Meet'] == 'yes' and data['class'] == 'spam') / sum(1 for data in dataset if data['class'] == 'spam')\n",
    "\n",
    "# Calculate posterior probabilities\n",
    "P_ham_given_M5 = P_ham * P_malicious_yes_ham * P_viagara_no_ham * P_meet_yes_ham\n",
    "P_spam_given_M5 = P_spam * P_malicious_yes_spam * P_viagara_no_spam * P_meet_yes_spam\n",
    "\n",
    "# Output the probabilities\n",
    "print(f\"P(ham | M5): {P_ham_given_M5}\")\n",
    "print(f\"P(spam | M5): {P_spam_given_M5}\")\n",
    "\n",
    "# Conclusion based on the probabilities\n",
    "if P_ham_given_M5 > P_spam_given_M5:\n",
    "    print(\"The message M5 is classified as ham.\")\n",
    "else:\n",
    "    print(\"The message M5 is classified as spam.\")\n"
   ]
  },
  {
   "cell_type": "code",
   "execution_count": null,
   "id": "bc23a86f-b21d-45d3-945f-3ea8c114ca62",
   "metadata": {},
   "outputs": [],
   "source": []
  }
 ],
 "metadata": {
  "kernelspec": {
   "display_name": "Python 3 (ipykernel)",
   "language": "python",
   "name": "python3"
  },
  "language_info": {
   "codemirror_mode": {
    "name": "ipython",
    "version": 3
   },
   "file_extension": ".py",
   "mimetype": "text/x-python",
   "name": "python",
   "nbconvert_exporter": "python",
   "pygments_lexer": "ipython3",
   "version": "3.11.9"
  }
 },
 "nbformat": 4,
 "nbformat_minor": 5
}
